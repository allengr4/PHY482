{
 "cells": [
  {
   "cell_type": "code",
   "execution_count": 1,
   "metadata": {
    "collapsed": true
   },
   "outputs": [],
   "source": [
    "import numpy as np\n",
    "from matplotlib import pyplot as plt\n",
    "c = 3*10^8                 # m/s\n",
    "G = 6.67*10**(-11)         # Nm^2/kg^2\n",
    "u0 = 4*np.pi*10**(-7)      # N/A^2\n",
    "eps0 = 8.85*10**(-12)        # C^2/(N*m^2)\n",
    "e = 1.6*10**(-19)          # C\n",
    "mp = 1.67*10**(-19)        # kg\n",
    "me = 9.11*10**(-31)        # kg\n",
    "Msun = 2*10**(30)          # kg\n",
    "sigma = 6*10**22           # Hz"
   ]
  },
  {
   "cell_type": "code",
   "execution_count": 2,
   "metadata": {
    "collapsed": true
   },
   "outputs": [],
   "source": [
    "class Star:\n",
    "    def __init__(self, M, w, R, M_frac):\n",
    "        self.M = M\n",
    "        self.w = w\n",
    "        self.R = R\n",
    "        self.N = M_frac*M/(mp+me)\n",
    "    def L(self):\n",
    "        return (2/5)*self.M*self.w*self.R**2"
   ]
  },
  {
   "cell_type": "code",
   "execution_count": 19,
   "metadata": {
    "collapsed": true
   },
   "outputs": [],
   "source": [
    "def Bgm(N_Star, R_loc):\n",
    "    M = -(1/2)*N_Star.L()*np.sqrt(G)/c\n",
    "    return np.array([2*M*np.sin(R_loc[1])/(R_loc[0])**3, M*np.sin(R_loc[1])/(R_loc[0]**3), 0])"
   ]
  },
  {
   "cell_type": "code",
   "execution_count": 4,
   "metadata": {
    "collapsed": true
   },
   "outputs": [],
   "source": [
    "def Generate_Loops(Nl, N_Star):\n",
    "    Cyl_loops_r = np.arange(.1, N_Star.R +1, N_Star.R/Nl)\n",
    "    Cyl_loops_z = np.arange(-N_Star.R, N_Star.R + 1,  N_Star.R/Nl)\n",
    "    #print(Cyl_loops_z)\n",
    "    Loops = []\n",
    "    L = 0\n",
    "    #k = 0\n",
    "    for r in Cyl_loops_r:\n",
    "        for z in Cyl_loops_z:\n",
    "            if r**2 + z**2 <= N_Star.R**2:\n",
    "                Loops.append([r,z])\n",
    "    i = 0\n",
    "    while i < len(Loops):\n",
    "        k = Loops[i]\n",
    "        L = L + 2*np.pi*k[0]\n",
    "        i = i + 1\n",
    "        #print(L)\n",
    "    i = 0\n",
    "    while i < len(Loops):\n",
    "        Loops[i] = Loops[i]+[N_Star.N/(L)]\n",
    "        i = i + 1\n",
    "    #print(Loops)\n",
    "    return Loops"
   ]
  },
  {
   "cell_type": "code",
   "execution_count": 5,
   "metadata": {
    "collapsed": true
   },
   "outputs": [],
   "source": [
    "def J_init(N_Star, loop):\n",
    "    n = loop[2]\n",
    "    #print(n)\n",
    "    R_loc = np.array([loop[0], np.arctan(np.sqrt(loop[0]**2+loop[1]**2))/loop[1],0])\n",
    "    if R_loc[1] >= 1000:\n",
    "        R_loc[1] = 0\n",
    "    i = 0\n",
    "    v = R_loc[0]*N_Star.w*np.array([0,0,1])\n",
    "    lc = e*n\n",
    "    return R_loc, v, lc"
   ]
  },
  {
   "cell_type": "code",
   "execution_count": 6,
   "metadata": {
    "collapsed": true
   },
   "outputs": [],
   "source": [
    "def B_em(Loop, Point):\n",
    "    Bi = 0\n",
    "    #Q = Loop[0][0]/(np.pi/50)\n",
    "    Bi = (u0/(4*np.pi*(Point[0] - Loop[0][0])**3))*np.cross(Loop[1], (Point - Loop[0]))    \n",
    "    Bi = Bi*Loop[2]*Loop[0][0]*2*np.pi\n",
    "    return Bi"
   ]
  },
  {
   "cell_type": "code",
   "execution_count": 13,
   "metadata": {
    "collapsed": true
   },
   "outputs": [],
   "source": [
    "def ElectromagneticBE(N_Star, Nl, deltaT, Point):\n",
    "    dt = .1\n",
    "    Nsteps = deltaT/dt\n",
    "    Loops = Generate_Loops(Nl, N_Star)\n",
    "    k = 0\n",
    "    e_loops = []\n",
    "    while k < len(Loops):\n",
    "        R, v, I = J_init(N_Star, Loops[k])\n",
    "        e_descrip = np.array([R, v, I])\n",
    "        if R[0] < N_Star.R:\n",
    "            e_loops.append(e_descrip)\n",
    "        k = k + 1\n",
    "    k = 0\n",
    "    p_loops = []\n",
    "    while k < len(Loops):\n",
    "        R, v, I = J_init(N_Star, Loops[k])\n",
    "        #print(R)\n",
    "        #print(v)\n",
    "        p_descrip = np.array([R, v, I])\n",
    "        p_loops.append(p_descrip)\n",
    "        k = k + 1\n",
    "    k = 0\n",
    "    \n",
    "    #E = 0\n",
    "    #while k < len(p_loops):\n",
    "    #    #print(Loops[k][2])\n",
    "    #    Ei = p_loops[k][2]*np.array([0,0,1]) - (1/c)*np.cross(p_loops[k][1], Bgm(N_Star, p_loops[k][0]))\n",
    "    #    E = E + Ei\n",
    "    #    k = k + 1\n",
    "    #k = 0\n",
    "    Bem = 0\n",
    "    while k < len(p_loops):\n",
    "        Bi = B_em(p_loops[k], Point)\n",
    "        k = k + 1\n",
    "        Bem = Bem + Bi\n",
    "    print(\"Bgm = \", Bgm(N_Star, Point))\n",
    "    print(\"Bem = \", Bem)\n",
    "    #print(Bem[0]/Bgm(N_Star, Point)[0])\n",
    "    #print(Bem[1]/Bgm(N_Star, Point)[1])\n",
    "    return (Bem, Bgm(N_Star, Point))"
   ]
  },
  {
   "cell_type": "code",
   "execution_count": 33,
   "metadata": {
    "collapsed": true
   },
   "outputs": [],
   "source": [
    "import numpy as np\n",
    "from matplotlib import pyplot as plt\n",
    "c = 3*10^8                 # m/s\n",
    "G = 6.67*10**(-11)         # Nm^2/kg^2\n",
    "u0 = 4*np.pi*10**(-7)      # N/A^2\n",
    "eps0 = 8.85*10**(-12)        # C^2/(N*m^2)\n",
    "e = 1.6*10**(-19)          # C\n",
    "mp = 1.67*10**(-19)        # kg\n",
    "me = 9.11*10**(-31)        # kg\n",
    "Msun = 2*10**(30)          # kg\n",
    "sigma = 6*10**22           # Hz\n",
    "\n",
    "class Star:\n",
    "    def __init__(self, M, w, R, M_frac):\n",
    "        self.M = M\n",
    "        self.w = w\n",
    "        self.R = R\n",
    "        self.N = M_frac*M/(mp+me)\n",
    "    def L(self):\n",
    "        return (2/5)*self.M*self.w*self.R**2\n",
    "\n",
    "def Bgm(N_Star, R_loc):\n",
    "    M = -(1/2)*N_Star.L()*np.sqrt(G)/c\n",
    "    return np.array([2*M*np.sin(R_loc[1])/(R_loc[0])**3, M*np.sin(R_loc[1])/(R_loc[0]**3), 0])\n",
    "\n",
    "def Generate_Loops(Nl, N_Star):\n",
    "    Cyl_loops_r = np.arange(.1, N_Star.R +1, N_Star.R/Nl)\n",
    "    Cyl_loops_z = np.arange(-N_Star.R, N_Star.R + 1,  N_Star.R/Nl)\n",
    "    #print(Cyl_loops_z)\n",
    "    Loops = []\n",
    "    L = 0\n",
    "    #k = 0\n",
    "    for r in Cyl_loops_r:\n",
    "        for z in Cyl_loops_z:\n",
    "            if r**2 + z**2 <= N_Star.R**2:\n",
    "                Loops.append([r,z])\n",
    "    i = 0\n",
    "    while i < len(Loops):\n",
    "        k = Loops[i]\n",
    "        L = L + 2*np.pi*k[0]\n",
    "        i = i + 1\n",
    "        #print(L)\n",
    "    i = 0\n",
    "    while i < len(Loops):\n",
    "        Loops[i] = Loops[i]+[N_Star.N/(L)]\n",
    "        i = i + 1\n",
    "    #print(Loops)\n",
    "    return Loops\n",
    "\n",
    "def J_init(N_Star, loop):\n",
    "    n = loop[2]\n",
    "    #print(n)\n",
    "    R_loc = np.array([loop[0], np.arctan(np.sqrt(loop[0]**2+loop[1]**2))/loop[1],0])\n",
    "    if R_loc[1] >= 1000:\n",
    "        R_loc[1] = 0\n",
    "    i = 0\n",
    "    v = R_loc[0]*N_Star.w*np.array([0,0,1])\n",
    "    lc = e*n\n",
    "    return R_loc, v, lc\n",
    "\n",
    "def B_em(Loop, Point):\n",
    "    Bi = 0\n",
    "    #Q = Loop[0][0]/(np.pi/50)\n",
    "    Bi = (u0/(4*np.pi*(Point[0] - Loop[0][0])**3))*np.cross(Loop[1], (Point - Loop[0]))    \n",
    "    Bi = Bi*Loop[2]*Loop[0][0]*2*np.pi\n",
    "    return Bi\n",
    "\n",
    "def ElectromagneticBE(N_Star, Nl, deltaT, Point):\n",
    "    dt = .1\n",
    "    Nsteps = deltaT/dt\n",
    "    Loops = Generate_Loops(Nl, N_Star)\n",
    "    k = 0\n",
    "    e_loops = []\n",
    "    while k < len(Loops):\n",
    "        R, v, I = J_init(N_Star, Loops[k])\n",
    "        e_descrip = np.array([R, v, I])\n",
    "        if R[0] < N_Star.R:\n",
    "            e_loops.append(e_descrip)\n",
    "        k = k + 1\n",
    "    k = 0\n",
    "    p_loops = []\n",
    "    while k < len(Loops):\n",
    "        R, v, I = J_init(N_Star, Loops[k])\n",
    "        #print(R)\n",
    "        #print(v)\n",
    "        p_descrip = np.array([R, v, I])\n",
    "        p_loops.append(p_descrip)\n",
    "        k = k + 1\n",
    "    k = 0\n",
    "    \n",
    "    #E = 0\n",
    "    #while k < len(p_loops):\n",
    "    #    #print(Loops[k][2])\n",
    "    #    Ei = p_loops[k][2]*np.array([0,0,1]) - (1/c)*np.cross(p_loops[k][1], Bgm(N_Star, p_loops[k][0]))\n",
    "    #    E = E + Ei\n",
    "    #    k = k + 1\n",
    "    #k = 0\n",
    "    Bem = 0\n",
    "    #print(p_loops)\n",
    "    while k < len(p_loops):\n",
    "        Bi = B_em(p_loops[k], Point)\n",
    "        k = k + 1\n",
    "        Bem = Bem + Bi\n",
    "    print(\"Bgm = \", Bgm(N_Star, Point))\n",
    "    print(\"Bem = \", Bem)\n",
    "    #print(Bem[0]/Bgm(N_Star, Point)[0])\n",
    "    #print(Bem[1]/Bgm(N_Star, Point)[1])\n",
    "    return (Bem, Bgm(N_Star, Point))"
   ]
  },
  {
   "cell_type": "code",
   "execution_count": 43,
   "metadata": {},
   "outputs": [
    {
     "name": "stdout",
     "output_type": "stream",
     "text": [
      "0.0\n"
     ]
    },
    {
     "name": "stderr",
     "output_type": "stream",
     "text": [
      "C:\\Users\\Grant\\Anaconda3\\lib\\site-packages\\ipykernel_launcher.py:53: RuntimeWarning: divide by zero encountered in double_scalars\n"
     ]
    },
    {
     "name": "stdout",
     "output_type": "stream",
     "text": [
      "Bgm =  [-0. -0.  0.]\n",
      "Bem =  [0. 0. 0.]\n"
     ]
    },
    {
     "name": "stderr",
     "output_type": "stream",
     "text": [
      "C:\\Users\\Grant\\Anaconda3\\lib\\site-packages\\ipykernel_launcher.py:15: RuntimeWarning: divide by zero encountered in log10\n",
      "  from ipykernel import kernelapp as app\n",
      "C:\\Users\\Grant\\Anaconda3\\lib\\site-packages\\ipykernel_launcher.py:16: RuntimeWarning: divide by zero encountered in log10\n",
      "  app.launch_new_instance()\n",
      "C:\\Users\\Grant\\Anaconda3\\lib\\site-packages\\ipykernel_launcher.py:17: RuntimeWarning: divide by zero encountered in log10\n",
      "C:\\Users\\Grant\\Anaconda3\\lib\\site-packages\\ipykernel_launcher.py:18: RuntimeWarning: divide by zero encountered in log10\n",
      "C:\\Users\\Grant\\Anaconda3\\lib\\site-packages\\ipykernel_launcher.py:19: RuntimeWarning: divide by zero encountered in log10\n"
     ]
    },
    {
     "name": "stdout",
     "output_type": "stream",
     "text": [
      "125.66370614359172\n",
      "Bgm =  [-2.30904896e+23 -1.15452448e+23  0.00000000e+00]\n",
      "Bem =  [6.20014341e+28 7.89427473e+27 0.00000000e+00]\n",
      "251.32741228718345\n",
      "Bgm =  [-4.61809793e+23 -2.30904896e+23  0.00000000e+00]\n",
      "Bem =  [1.24002868e+29 1.57885495e+28 0.00000000e+00]\n",
      "376.99111843077515\n",
      "Bgm =  [-6.92714689e+23 -3.46357345e+23  0.00000000e+00]\n",
      "Bem =  [1.86004302e+29 2.36828242e+28 0.00000000e+00]\n",
      "502.6548245743669\n",
      "Bgm =  [-9.23619586e+23 -4.61809793e+23  0.00000000e+00]\n",
      "Bem =  [2.48005736e+29 3.15770989e+28 0.00000000e+00]\n",
      "628.3185307179587\n",
      "Bgm =  [-1.15452448e+24 -5.77262241e+23  0.00000000e+00]\n",
      "Bem =  [3.10007170e+29 3.94713737e+28 0.00000000e+00]\n",
      "753.9822368615503\n",
      "Bgm =  [-1.38542938e+24 -6.92714689e+23  0.00000000e+00]\n",
      "Bem =  [3.72008604e+29 4.73656484e+28 0.00000000e+00]\n",
      "879.645943005142\n",
      "Bgm =  [-1.61633427e+24 -8.08167137e+23  0.00000000e+00]\n",
      "Bem =  [4.34010039e+29 5.52599231e+28 0.00000000e+00]\n",
      "1005.3096491487338\n",
      "Bgm =  [-1.84723917e+24 -9.23619586e+23  0.00000000e+00]\n",
      "Bem =  [4.96011473e+29 6.31541979e+28 0.00000000e+00]\n",
      "1130.9733552923256\n",
      "Bgm =  [-2.07814407e+24 -1.03907203e+24  0.00000000e+00]\n",
      "Bem =  [5.58012907e+29 7.10484726e+28 0.00000000e+00]\n",
      "1256.6370614359173\n",
      "Bgm =  [-2.30904896e+24 -1.15452448e+24  0.00000000e+00]\n",
      "Bem =  [6.20014341e+29 7.89427473e+28 0.00000000e+00]\n",
      "1382.300767579509\n",
      "Bgm =  [-2.53995386e+24 -1.26997693e+24  0.00000000e+00]\n",
      "Bem =  [6.82015775e+29 8.68370221e+28 0.00000000e+00]\n",
      "1507.9644737231006\n",
      "Bgm =  [-2.77085876e+24 -1.38542938e+24  0.00000000e+00]\n",
      "Bem =  [7.44017209e+29 9.47312968e+28 0.00000000e+00]\n",
      "1633.6281798666923\n",
      "Bgm =  [-3.00176365e+24 -1.50088183e+24  0.00000000e+00]\n",
      "Bem =  [8.06018643e+29 1.02625572e+29 0.00000000e+00]\n",
      "1759.291886010284\n",
      "Bgm =  [-3.23266855e+24 -1.61633427e+24  0.00000000e+00]\n",
      "Bem =  [8.68020077e+29 1.10519846e+29 0.00000000e+00]\n",
      "1884.9555921538758\n",
      "Bgm =  [-3.46357345e+24 -1.73178672e+24  0.00000000e+00]\n",
      "Bem =  [9.30021511e+29 1.18414121e+29 0.00000000e+00]\n",
      "2010.6192982974676\n",
      "Bgm =  [-3.69447834e+24 -1.84723917e+24  0.00000000e+00]\n",
      "Bem =  [9.92022945e+29 1.26308396e+29 0.00000000e+00]\n",
      "2136.2830044410593\n",
      "Bgm =  [-3.92538324e+24 -1.96269162e+24  0.00000000e+00]\n",
      "Bem =  [1.05402438e+30 1.34202670e+29 0.00000000e+00]\n",
      "2261.946710584651\n",
      "Bgm =  [-4.15628814e+24 -2.07814407e+24  0.00000000e+00]\n",
      "Bem =  [1.11602581e+30 1.42096945e+29 0.00000000e+00]\n",
      "2387.610416728243\n",
      "Bgm =  [-4.38719303e+24 -2.19359652e+24  0.00000000e+00]\n",
      "Bem =  [1.17802725e+30 1.49991220e+29 0.00000000e+00]\n",
      "2513.2741228718346\n",
      "Bgm =  [-4.61809793e+24 -2.30904896e+24  0.00000000e+00]\n",
      "Bem =  [1.24002868e+30 1.57885495e+29 0.00000000e+00]\n",
      "2638.9378290154264\n",
      "Bgm =  [-4.84900282e+24 -2.42450141e+24  0.00000000e+00]\n",
      "Bem =  [1.30203012e+30 1.65779769e+29 0.00000000e+00]\n",
      "2764.601535159018\n",
      "Bgm =  [-5.07990772e+24 -2.53995386e+24  0.00000000e+00]\n",
      "Bem =  [1.36403155e+30 1.73674044e+29 0.00000000e+00]\n",
      "2890.26524130261\n",
      "Bgm =  [-5.31081262e+24 -2.65540631e+24  0.00000000e+00]\n",
      "Bem =  [1.42603298e+30 1.81568319e+29 0.00000000e+00]\n",
      "3015.928947446201\n",
      "Bgm =  [-5.54171751e+24 -2.77085876e+24  0.00000000e+00]\n",
      "Bem =  [1.48803442e+30 1.89462594e+29 0.00000000e+00]\n",
      "3141.592653589793\n",
      "Bgm =  [-5.77262241e+24 -2.88631120e+24  0.00000000e+00]\n",
      "Bem =  [1.55003585e+30 1.97356868e+29 0.00000000e+00]\n",
      "3267.2563597333847\n",
      "Bgm =  [-6.00352731e+24 -3.00176365e+24  0.00000000e+00]\n",
      "Bem =  [1.61203729e+30 2.05251143e+29 0.00000000e+00]\n",
      "3392.9200658769764\n",
      "Bgm =  [-6.2344322e+24 -3.1172161e+24  0.0000000e+00]\n",
      "Bem =  [1.67403872e+30 2.13145418e+29 0.00000000e+00]\n",
      "3518.583772020568\n",
      "Bgm =  [-6.46533710e+24 -3.23266855e+24  0.00000000e+00]\n",
      "Bem =  [1.73604015e+30 2.21039693e+29 0.00000000e+00]\n",
      "3644.24747816416\n",
      "Bgm =  [-6.696242e+24 -3.348121e+24  0.000000e+00]\n",
      "Bem =  [1.79804159e+30 2.28933967e+29 0.00000000e+00]\n",
      "3769.9111843077517\n",
      "Bgm =  [-6.92714689e+24 -3.46357345e+24  0.00000000e+00]\n",
      "Bem =  [1.86004302e+30 2.36828242e+29 0.00000000e+00]\n",
      "3895.5748904513434\n",
      "Bgm =  [-7.15805179e+24 -3.57902589e+24  0.00000000e+00]\n",
      "Bem =  [1.92204446e+30 2.44722517e+29 0.00000000e+00]\n",
      "4021.238596594935\n",
      "Bgm =  [-7.38895668e+24 -3.69447834e+24  0.00000000e+00]\n",
      "Bem =  [1.98404589e+30 2.52616791e+29 0.00000000e+00]\n",
      "4146.9023027385265\n",
      "Bgm =  [-7.61986158e+24 -3.80993079e+24  0.00000000e+00]\n",
      "Bem =  [2.04604732e+30 2.60511066e+29 0.00000000e+00]\n",
      "4272.566008882119\n",
      "Bgm =  [-7.85076648e+24 -3.92538324e+24  0.00000000e+00]\n",
      "Bem =  [2.10804876e+30 2.68405341e+29 0.00000000e+00]\n",
      "4398.22971502571\n",
      "Bgm =  [-8.08167137e+24 -4.04083569e+24  0.00000000e+00]\n",
      "Bem =  [2.17005019e+30 2.76299616e+29 0.00000000e+00]\n",
      "4523.893421169302\n",
      "Bgm =  [-8.31257627e+24 -4.15628814e+24  0.00000000e+00]\n",
      "Bem =  [2.23205163e+30 2.84193890e+29 0.00000000e+00]\n",
      "4649.5571273128935\n",
      "Bgm =  [-8.54348117e+24 -4.27174058e+24  0.00000000e+00]\n",
      "Bem =  [2.29405306e+30 2.92088165e+29 0.00000000e+00]\n",
      "4775.220833456486\n",
      "Bgm =  [-8.77438606e+24 -4.38719303e+24  0.00000000e+00]\n",
      "Bem =  [2.3560545e+30 2.9998244e+29 0.0000000e+00]\n",
      "4900.884539600077\n",
      "Bgm =  [-9.00529096e+24 -4.50264548e+24  0.00000000e+00]\n",
      "Bem =  [2.41805593e+30 3.07876715e+29 0.00000000e+00]\n",
      "5026.548245743669\n",
      "Bgm =  [-9.23619586e+24 -4.61809793e+24  0.00000000e+00]\n",
      "Bem =  [2.48005736e+30 3.15770989e+29 0.00000000e+00]\n",
      "5152.2119518872605\n",
      "Bgm =  [-9.46710075e+24 -4.73355038e+24  0.00000000e+00]\n",
      "Bem =  [2.54205880e+30 3.23665264e+29 0.00000000e+00]\n",
      "5277.875658030853\n",
      "Bgm =  [-9.69800565e+24 -4.84900282e+24  0.00000000e+00]\n",
      "Bem =  [2.60406023e+30 3.31559539e+29 0.00000000e+00]\n",
      "5403.539364174444\n",
      "Bgm =  [-9.92891055e+24 -4.96445527e+24  0.00000000e+00]\n",
      "Bem =  [2.66606167e+30 3.39453814e+29 0.00000000e+00]\n",
      "5529.203070318036\n",
      "Bgm =  [-1.01598154e+25 -5.07990772e+24  0.00000000e+00]\n",
      "Bem =  [2.72806310e+30 3.47348088e+29 0.00000000e+00]\n",
      "5654.8667764616275\n",
      "Bgm =  [-1.03907203e+25 -5.19536017e+24  0.00000000e+00]\n",
      "Bem =  [2.79006453e+30 3.55242363e+29 0.00000000e+00]\n",
      "5780.53048260522\n",
      "Bgm =  [-1.06216252e+25 -5.31081262e+24  0.00000000e+00]\n",
      "Bem =  [2.85206597e+30 3.63136638e+29 0.00000000e+00]\n",
      "5906.194188748811\n",
      "Bgm =  [-1.08525301e+25 -5.42626507e+24  0.00000000e+00]\n",
      "Bem =  [2.91406740e+30 3.71030912e+29 0.00000000e+00]\n",
      "6031.857894892402\n",
      "Bgm =  [-1.10834350e+25 -5.54171751e+24  0.00000000e+00]\n",
      "Bem =  [2.97606884e+30 3.78925187e+29 0.00000000e+00]\n",
      "6157.5216010359945\n",
      "Bgm =  [-1.13143399e+25 -5.65716996e+24  0.00000000e+00]\n",
      "Bem =  [3.03807027e+30 3.86819462e+29 0.00000000e+00]\n",
      "6283.185307179586\n",
      "Bgm =  [-1.15452448e+25 -5.77262241e+24  0.00000000e+00]\n",
      "Bem =  [3.10007170e+30 3.94713737e+29 0.00000000e+00]\n"
     ]
    },
    {
     "name": "stderr",
     "output_type": "stream",
     "text": [
      "C:\\Users\\Grant\\Anaconda3\\lib\\site-packages\\ipykernel_launcher.py:20: RuntimeWarning: divide by zero encountered in log10\n"
     ]
    }
   ],
   "source": [
    "ws = 2*np.pi*np.arange(0, 1020, 20)\n",
    "log10Bsemr = ws*0\n",
    "log10Bsemtheta = ws*0\n",
    "log10Bsgmr = ws*0\n",
    "log10Bsgmtheta = ws*0\n",
    "log10Br = ws*0\n",
    "log10Btheta = ws*0\n",
    "i = 0\n",
    "for w in ws:\n",
    "    Starw = Star(1.4*Msun, w, 20000, .1)\n",
    "    print(w)\n",
    "    Bcoupled = ElectromagneticBE(Starw, 100, 1, np.array([4000, np.pi/4, 0]))\n",
    "    Bemi = Bcoupled[0]\n",
    "    Bgmi = Bcoupled[1]\n",
    "    log10Bsemr[i] = np.log10(np.abs(Bemi))[0]\n",
    "    log10Bsgmr[i] = np.log10(np.abs(Bgmi))[0]\n",
    "    log10Bsemtheta[i] = np.log10(np.abs(Bemi))[1]\n",
    "    log10Bsgmtheta[i] = np.log10(np.abs(Bgmi))[1]\n",
    "    log10Br[i] = np.log10(np.abs(Bgmi+Bemi))[0]\n",
    "    log10Btheta[i] = np.log10(np.abs(Bemi+Bgmi))[1]\n",
    "    #print(log10Bsem[i], log10Bsgm[i])\n",
    "    i = i + 1"
   ]
  },
  {
   "cell_type": "code",
   "execution_count": 47,
   "metadata": {},
   "outputs": [
    {
     "name": "stderr",
     "output_type": "stream",
     "text": [
      "C:\\Users\\Grant\\Anaconda3\\lib\\site-packages\\ipykernel_launcher.py:1: RuntimeWarning: invalid value encountered in subtract\n",
      "  \"\"\"Entry point for launching an IPython kernel.\n"
     ]
    },
    {
     "data": {
      "image/png": "[encoded data removed]",
      "text/plain": [
       "<Figure size 432x288 with 1 Axes>"
      ]
     },
     "metadata": {},
     "output_type": "display_data"
    }
   ],
   "source": [
    "plt.plot(ws, log10Bsgmr - log10Bsemr)\n",
    "plt.title(\"Ratio of $B_{gm}/B_{em}$\")\n",
    "plt.ylabel(\"log(Br)\")\n",
    "plt.xlabel(\"Angular Frequency\")\n",
    "plt.show()"
   ]
  },
  {
   "cell_type": "code",
   "execution_count": 48,
   "metadata": {},
   "outputs": [
    {
     "name": "stderr",
     "output_type": "stream",
     "text": [
      "C:\\Users\\Grant\\Anaconda3\\lib\\site-packages\\ipykernel_launcher.py:1: RuntimeWarning: invalid value encountered in subtract\n",
      "  \"\"\"Entry point for launching an IPython kernel.\n"
     ]
    },
    {
     "data": {
      "image/png": "[encoded data removed]",
      "text/plain": [
       "<Figure size 432x288 with 1 Axes>"
      ]
     },
     "metadata": {},
     "output_type": "display_data"
    }
   ],
   "source": [
    "plt.plot(ws, log10Bsgmr - log10Bsemr)\n",
    "plt.title(\"Ratio of $B_{gm}/B_{em}$\")\n",
    "plt.ylabel(\"log($B_{theta}$)\")\n",
    "plt.xlabel(\"Angular Frequency\")\n",
    "plt.show()"
   ]
  },
  {
   "cell_type": "code",
   "execution_count": 46,
   "metadata": {},
   "outputs": [
    {
     "name": "stderr",
     "output_type": "stream",
     "text": [
      "C:\\Users\\Grant\\Anaconda3\\lib\\site-packages\\ipykernel_launcher.py:1: RuntimeWarning: invalid value encountered in true_divide\n",
      "  \"\"\"Entry point for launching an IPython kernel.\n"
     ]
    },
    {
     "data": {
      "image/png": "[encoded data removed]",
      "text/plain": [
       "<Figure size 432x288 with 1 Axes>"
      ]
     },
     "metadata": {},
     "output_type": "display_data"
    }
   ],
   "source": [
    "plt.plot(ws, log10Bsemr/log10Bsgmr)\n",
    "plt.title(\"Total Radial Component of B\")\n",
    "plt.ylabel(\"log(Br)/log(Bgm)\")\n",
    "plt.xlabel(\"Angular Frequency\")\n",
    "plt.show()"
   ]
  },
  {
   "cell_type": "code",
   "execution_count": 32,
   "metadata": {},
   "outputs": [
    {
     "name": "stderr",
     "output_type": "stream",
     "text": [
      "C:\\Users\\Grant\\Anaconda3\\lib\\site-packages\\ipykernel_launcher.py:1: RuntimeWarning: invalid value encountered in true_divide\n",
      "  \"\"\"Entry point for launching an IPython kernel.\n"
     ]
    },
    {
     "data": {
      "image/png": "[encoded data removed]",
      "text/plain": [
       "<Figure size 432x288 with 1 Axes>"
      ]
     },
     "metadata": {},
     "output_type": "display_data"
    }
   ],
   "source": [
    "plt.plot(ws, log10Bsemtheta/log10Bsgmtheta)\n",
    "plt.title(\"Total Radial Component of B\")\n",
    "plt.ylabel(\"log(Br)/log(Bgm)\")\n",
    "plt.xlabel(\"Angular Frequency\")\n",
    "plt.show()"
   ]
  }
 ],
 "metadata": {
  "kernelspec": {
   "display_name": "Python 3",
   "language": "python",
   "name": "python3"
  },
  "language_info": {
   "codemirror_mode": {
    "name": "ipython",
    "version": 3
   },
   "file_extension": ".py",
   "mimetype": "text/x-python",
   "name": "python",
   "nbconvert_exporter": "python",
   "pygments_lexer": "ipython3",
   "version": "3.6.1"
  }
 },
 "nbformat": 4,
 "nbformat_minor": 2
}
