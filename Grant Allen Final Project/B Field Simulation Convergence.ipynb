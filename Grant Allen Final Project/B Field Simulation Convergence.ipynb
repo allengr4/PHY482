{
 "cells": [
  {
   "cell_type": "code",
   "execution_count": 19,
   "metadata": {
    "collapsed": true
   },
   "outputs": [],
   "source": [
    "import numpy as np\n",
    "from matplotlib import pyplot as plt\n",
    "c = 3*10^8                 # m/s\n",
    "G = 6.67*10**(-11)         # Nm^2/kg^2\n",
    "u0 = 4*np.pi*10**(-7)      # N/A^2\n",
    "eps0 = 8.85*10**(-12)        # C^2/(N*m^2)\n",
    "e = 1.6*10**(-19)          # C\n",
    "mp = 1.67*10**(-19)        # kg\n",
    "me = 9.11*10**(-31)        # kg\n",
    "Msun = 2*10**(30)          # kg\n",
    "sigma = 6*10**22           # Hz"
   ]
  },
  {
   "cell_type": "code",
   "execution_count": 20,
   "metadata": {
    "collapsed": true
   },
   "outputs": [],
   "source": [
    "class Star:\n",
    "    def __init__(self, M, w, R, M_frac):\n",
    "        self.M = M\n",
    "        self.w = w\n",
    "        self.R = R\n",
    "        self.N = M_frac*M/(mp+me)\n",
    "    def L(self):\n",
    "        return (2/5)*self.M*self.w*self.R**2"
   ]
  },
  {
   "cell_type": "code",
   "execution_count": 35,
   "metadata": {
    "collapsed": true
   },
   "outputs": [],
   "source": [
    "def Bgm(N_Star, R_loc):\n",
    "    M = -(1/2)*N_Star.L()*np.sqrt(G)/c\n",
    "    return np.array([2*M*np.sin(R_loc[1])/(R_loc[0])**3, M*np.sin(R_loc[1])/(R_loc[0]**3), 0])"
   ]
  },
  {
   "cell_type": "code",
   "execution_count": 22,
   "metadata": {
    "collapsed": true
   },
   "outputs": [],
   "source": [
    "def Generate_Loops(Nl, N_Star):\n",
    "    Cyl_loops_r = np.arange(.1, N_Star.R +1, N_Star.R/Nl)\n",
    "    Cyl_loops_z = np.arange(-N_Star.R, N_Star.R + 1,  N_Star.R/Nl)\n",
    "    #print(Cyl_loops_z)\n",
    "    Loops = []\n",
    "    L = 0\n",
    "    #k = 0\n",
    "    for r in Cyl_loops_r:\n",
    "        for z in Cyl_loops_z:\n",
    "            if r**2 + z**2 <= N_Star.R**2:\n",
    "                Loops.append([r,z])\n",
    "    i = 0\n",
    "    while i < len(Loops):\n",
    "        k = Loops[i]\n",
    "        L = L + 2*np.pi*k[0]\n",
    "        i = i + 1\n",
    "        #print(L)\n",
    "    i = 0\n",
    "    while i < len(Loops):\n",
    "        Loops[i] = Loops[i]+[N_Star.N/(L)]\n",
    "        i = i + 1\n",
    "    #print(Loops)\n",
    "    return Loops"
   ]
  },
  {
   "cell_type": "code",
   "execution_count": 23,
   "metadata": {
    "collapsed": true
   },
   "outputs": [],
   "source": [
    "def J_init(N_Star, loop):\n",
    "    n = loop[2]\n",
    "    #print(n)\n",
    "    R_loc = np.array([loop[0], np.arctan(np.sqrt(loop[0]**2+loop[1]**2))/loop[1],0])\n",
    "    if R_loc[1] >= 1000:\n",
    "        R_loc[1] = 0\n",
    "    i = 0\n",
    "    v = R_loc[0]*N_Star.w*np.array([0,0,1])\n",
    "    lc = e*n\n",
    "    return R_loc, v, lc"
   ]
  },
  {
   "cell_type": "code",
   "execution_count": 24,
   "metadata": {
    "collapsed": true
   },
   "outputs": [],
   "source": [
    "def B_em(Loop, Point):\n",
    "    Bi = 0\n",
    "    #Q = Loop[0][0]/(np.pi/50)\n",
    "    Bi = (u0/(4*np.pi*(Point[0] - Loop[0][0])**3))*np.cross(Loop[1], (Point - Loop[0]))    \n",
    "    Bi = Bi*Loop[2]*Loop[0][0]*2*np.pi\n",
    "    return Bi"
   ]
  },
  {
   "cell_type": "code",
   "execution_count": 25,
   "metadata": {
    "collapsed": true
   },
   "outputs": [],
   "source": [
    "def ElectromagneticBE(N_Star, Nl, deltaT, Point):\n",
    "    dt = .1\n",
    "    Nsteps = deltaT/dt\n",
    "    Loops = Generate_Loops(Nl, Star_Test)\n",
    "    k = 0\n",
    "    e_loops = []\n",
    "    while k < len(Loops):\n",
    "        R, v, I = J_init(Star_Test, Loops[k])\n",
    "        e_descrip = np.array([R, v, I])\n",
    "        if R[0] < Star_Test.R:\n",
    "            e_loops.append(e_descrip)\n",
    "        k = k + 1\n",
    "    k = 0\n",
    "    p_loops = []\n",
    "    while k < len(Loops):\n",
    "        R, v, I = J_init(N_Star, Loops[k])\n",
    "        #print(R)\n",
    "        #print(v)\n",
    "        p_descrip = np.array([R, v, I])\n",
    "        p_loops.append(p_descrip)\n",
    "        k = k + 1\n",
    "    k = 0\n",
    "    \n",
    "    #E = 0\n",
    "    #while k < len(p_loops):\n",
    "    #    #print(Loops[k][2])\n",
    "    #    Ei = p_loops[k][2]*np.array([0,0,1]) - (1/c)*np.cross(p_loops[k][1], Bgm(N_Star, p_loops[k][0]))\n",
    "    #    E = E + Ei\n",
    "    #    k = k + 1\n",
    "    #k = 0\n",
    "    Bem = 0\n",
    "    while k < len(p_loops):\n",
    "        Bi = B_em(p_loops[k], Point)\n",
    "        k = k + 1\n",
    "        Bem = Bem + Bi\n",
    "    print(\"Bgm = \", Bgm(N_Star, Point))\n",
    "    print(\"Bem = \", Bem)\n",
    "    #print(Bem[0]/Bgm(N_Star, Point)[0])\n",
    "    #print(Bem[1]/Bgm(N_Star, Point)[1])\n",
    "    return (Bem, Bgm(N_Star, Point))"
   ]
  },
  {
   "cell_type": "code",
   "execution_count": 36,
   "metadata": {},
   "outputs": [
    {
     "name": "stderr",
     "output_type": "stream",
     "text": [
      "C:\\Users\\Grant\\Anaconda3\\lib\\site-packages\\ipykernel_launcher.py:4: RuntimeWarning: divide by zero encountered in double_scalars\n",
      "  after removing the cwd from sys.path.\n",
      "C:\\Users\\Grant\\Anaconda3\\lib\\site-packages\\ipykernel_launcher.py:11: RuntimeWarning: divide by zero encountered in log10\n",
      "  # This is added back by InteractiveShellApp.init_path()\n",
      "C:\\Users\\Grant\\Anaconda3\\lib\\site-packages\\ipykernel_launcher.py:12: RuntimeWarning: divide by zero encountered in log10\n",
      "  if sys.path[0] == '':\n"
     ]
    },
    {
     "name": "stdout",
     "output_type": "stream",
     "text": [
      "Bgm =  [-1018354.77987274  -509177.38993637        0.        ]\n",
      "Bem =  [-1.13195167e+19  8.82337668e+21  0.00000000e+00]\n",
      "Bgm =  [-1018354.77987274  -509177.38993637        0.        ]\n",
      "Bem =  [-1.13195167e+19  8.82337668e+21  0.00000000e+00]\n",
      "Bgm =  [-1018354.77987274  -509177.38993637        0.        ]\n",
      "Bem =  [-3.72132069e+19  1.59790134e+22  0.00000000e+00]\n",
      "Bgm =  [-1018354.77987274  -509177.38993637        0.        ]\n",
      "Bem =  [-3.72132069e+19  1.59790134e+22  0.00000000e+00]\n",
      "Bgm =  [-1018354.77987274  -509177.38993637        0.        ]\n",
      "Bem =  [-6.87146337e+19  2.10119392e+22  0.00000000e+00]\n",
      "Bgm =  [-1018354.77987274  -509177.38993637        0.        ]\n",
      "Bem =  [-6.87146337e+19  2.10119392e+22  0.00000000e+00]\n",
      "Bgm =  [-1018354.77987274  -509177.38993637        0.        ]\n",
      "Bem =  [-1.07111965e+20  2.55948110e+22  0.00000000e+00]\n",
      "Bgm =  [-1018354.77987274  -509177.38993637        0.        ]\n",
      "Bem =  [-1.07111965e+20  2.55948110e+22  0.00000000e+00]\n",
      "Bgm =  [-1018354.77987274  -509177.38993637        0.        ]\n",
      "Bem =  [-1.51798454e+20  2.96603700e+22  0.00000000e+00]\n",
      "Bgm =  [-1018354.77987274  -509177.38993637        0.        ]\n",
      "Bem =  [-1.51798454e+20  2.96603700e+22  0.00000000e+00]\n",
      "Bgm =  [-1018354.77987274  -509177.38993637        0.        ]\n",
      "Bem =  [-6.01777513e+28  3.37722739e+22  0.00000000e+00]\n",
      "Bgm =  [-1018354.77987274  -509177.38993637        0.        ]\n",
      "Bem =  [-6.01777513e+28  3.37722739e+22  0.00000000e+00]\n",
      "Bgm =  [-1018354.77987274  -509177.38993637        0.        ]\n",
      "Bem =  [-2.61543394e+20  3.75492752e+22  0.00000000e+00]\n",
      "Bgm =  [-1018354.77987274  -509177.38993637        0.        ]\n",
      "Bem =  [-2.61543394e+20  3.75492752e+22  0.00000000e+00]\n",
      "Bgm =  [-1018354.77987274  -509177.38993637        0.        ]\n",
      "Bem =  [-3.24673425e+20  4.09963312e+22  0.00000000e+00]\n",
      "Bgm =  [-1018354.77987274  -509177.38993637        0.        ]\n",
      "Bem =  [-3.24673425e+20  4.09963312e+22  0.00000000e+00]\n",
      "Bgm =  [-1018354.77987274  -509177.38993637        0.        ]\n",
      "Bem =  [-3.94627627e+20  4.46260490e+22  0.00000000e+00]\n",
      "Bgm =  [-1018354.77987274  -509177.38993637        0.        ]\n",
      "Bem =  [-3.94627627e+20  4.46260490e+22  0.00000000e+00]\n",
      "Bgm =  [-1018354.77987274  -509177.38993637        0.        ]\n",
      "Bem =  [-4.70478584e+20  4.80004175e+22  0.00000000e+00]\n",
      "Bgm =  [-1018354.77987274  -509177.38993637        0.        ]\n",
      "Bem =  [-4.70478584e+20  4.80004175e+22  0.00000000e+00]\n"
     ]
    },
    {
     "name": "stderr",
     "output_type": "stream",
     "text": [
      "C:\\Users\\Grant\\Anaconda3\\lib\\site-packages\\ipykernel_launcher.py:13: RuntimeWarning: divide by zero encountered in log10\n",
      "  del sys.path[0]\n",
      "C:\\Users\\Grant\\Anaconda3\\lib\\site-packages\\ipykernel_launcher.py:14: RuntimeWarning: divide by zero encountered in log10\n",
      "  \n"
     ]
    }
   ],
   "source": [
    "Star_Test = Star(1.4*Msun, 400, 20000, .1)\n",
    "Ls = np.arange(10, 105, 10)\n",
    "log10Bsemr = 0*Ls\n",
    "log10Bsgmr = 0*Ls\n",
    "log10Bsemtheta = 0*Ls\n",
    "log10Bsgmtheta = 0*Ls\n",
    "i = 0\n",
    "for l in Ls:\n",
    "    Bemi = ElectromagneticBE(Star_Test, l, 1, np.array([20000, np.pi, 0]))[0]\n",
    "    Bgmi = ElectromagneticBE(Star_Test, l, 1, np.array([20000, np.pi, 0]))[1]\n",
    "    log10Bsemr[i] = np.log10(np.abs(Bemi))[0]\n",
    "    log10Bsgmr[i] = np.log10(np.abs(Bgmi))[0]\n",
    "    log10Bsemtheta[i] = np.log10(np.abs(Bemi))[1]\n",
    "    log10Bsgmtheta[i] = np.log10(np.abs(Bgmi))[1]\n",
    "    #print(log10Bsem[i], log10Bsgm[i])\n",
    "    #print(l)\n",
    "    i = i + 1"
   ]
  },
  {
   "cell_type": "code",
   "execution_count": 37,
   "metadata": {},
   "outputs": [
    {
     "data": {
      "image/png": "[encoded data removed]",
      "text/plain": [
       "<Figure size 432x288 with 1 Axes>"
      ]
     },
     "metadata": {},
     "output_type": "display_data"
    }
   ],
   "source": [
    "plt.plot(Ls, log10Bsemr)\n",
    "plt.title(\"Radial Component of B\")\n",
    "plt.ylabel(\"log(Br)\")\n",
    "plt.xlabel(\"Number of Loops at Center\")\n",
    "plt.show()"
   ]
  },
  {
   "cell_type": "code",
   "execution_count": 38,
   "metadata": {},
   "outputs": [
    {
     "data": {
      "image/png": "[encoded data removed]",
      "text/plain": [
       "<Figure size 432x288 with 1 Axes>"
      ]
     },
     "metadata": {},
     "output_type": "display_data"
    }
   ],
   "source": [
    "plt.plot(Ls, log10Bsemtheta)\n",
    "plt.title(\"Polar Component of B\")\n",
    "plt.ylabel(\"log(Bphi)\")\n",
    "plt.xlabel(\"Number of Loops at Center\")\n",
    "plt.show()"
   ]
  }
 ],
 "metadata": {
  "kernelspec": {
   "display_name": "Python 3",
   "language": "python",
   "name": "python3"
  },
  "language_info": {
   "codemirror_mode": {
    "name": "ipython",
    "version": 3
   },
   "file_extension": ".py",
   "mimetype": "text/x-python",
   "name": "python",
   "nbconvert_exporter": "python",
   "pygments_lexer": "ipython3",
   "version": "3.6.1"
  }
 },
 "nbformat": 4,
 "nbformat_minor": 2
}
