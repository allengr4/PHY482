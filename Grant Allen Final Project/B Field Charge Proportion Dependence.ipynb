{
 "cells": [
  {
   "cell_type": "code",
   "execution_count": 26,
   "metadata": {
    "collapsed": true
   },
   "outputs": [],
   "source": [
    "import numpy as np\n",
    "from matplotlib import pyplot as plt\n",
    "c = 3*10^8                 # m/s\n",
    "G = 6.67*10**(-11)         # Nm^2/kg^2\n",
    "u0 = 4*np.pi*10**(-7)      # N/A^2\n",
    "eps0 = 8.85*10**(-12)        # C^2/(N*m^2)\n",
    "e = 1.6*10**(-19)          # C\n",
    "mp = 1.67*10**(-19)        # kg\n",
    "me = 9.11*10**(-31)        # kg\n",
    "Msun = 2*10**(30)          # kg\n",
    "sigma = 6*10**22           # Hz\n",
    "\n",
    "class Star:\n",
    "    def __init__(self, M, w, R, M_frac):\n",
    "        self.M = M\n",
    "        self.w = w\n",
    "        self.R = R\n",
    "        self.N = M_frac*M/(mp+me)\n",
    "    def L(self):\n",
    "        return (2/5)*self.M*self.w*self.R**2\n",
    "\n",
    "def Bgm(N_Star, R_loc):\n",
    "    M = -(1/2)*N_Star.L()*np.sqrt(G)/c\n",
    "    return np.array([2*M*np.sin(R_loc[1])/(R_loc[0])**3, M*np.sin(R_loc[1])/(R_loc[0]**3), 0])\n",
    "\n",
    "def Generate_Loops(Nl, N_Star):\n",
    "    Cyl_loops_r = np.arange(.1, N_Star.R +1, N_Star.R/Nl)\n",
    "    Cyl_loops_z = np.arange(-N_Star.R, N_Star.R + 1,  N_Star.R/Nl)\n",
    "    #print(Cyl_loops_z)\n",
    "    Loops = []\n",
    "    L = 0\n",
    "    #k = 0\n",
    "    for r in Cyl_loops_r:\n",
    "        for z in Cyl_loops_z:\n",
    "            if r**2 + z**2 <= N_Star.R**2:\n",
    "                Loops.append([r,z])\n",
    "    i = 0\n",
    "    while i < len(Loops):\n",
    "        k = Loops[i]\n",
    "        L = L + 2*np.pi*k[0]\n",
    "        i = i + 1\n",
    "        #print(L)\n",
    "    i = 0\n",
    "    while i < len(Loops):\n",
    "        Loops[i] = Loops[i]+[N_Star.N/(L)]\n",
    "        i = i + 1\n",
    "    #print(Loops)\n",
    "    return Loops\n",
    "\n",
    "def J_init(N_Star, loop):\n",
    "    n = loop[2]\n",
    "    #print(n)\n",
    "    R_loc = np.array([loop[0], np.arctan(np.sqrt(loop[0]**2+loop[1]**2))/loop[1],0])\n",
    "    if R_loc[1] >= 1000:\n",
    "        R_loc[1] = 0\n",
    "    i = 0\n",
    "    v = R_loc[0]*N_Star.w*np.array([0,0,1])\n",
    "    lc = e*n\n",
    "    return R_loc, v, lc\n",
    "\n",
    "def B_em(Loop, Point):\n",
    "    Bi = 0\n",
    "    #Q = Loop[0][0]/(np.pi/50)\n",
    "    Bi = (u0/(4*np.pi*(Point[0] - Loop[0][0])**3))*np.cross(Loop[1], (Point - Loop[0]))    \n",
    "    Bi = Bi*Loop[2]*Loop[0][0]*2*np.pi\n",
    "    return Bi\n",
    "\n",
    "def ElectromagneticBE(N_Star, Nl, deltaT, Point):\n",
    "    dt = .1\n",
    "    Nsteps = deltaT/dt\n",
    "    Loops = Generate_Loops(Nl, N_Star)\n",
    "    k = 0\n",
    "    e_loops = []\n",
    "    while k < len(Loops):\n",
    "        R, v, I = J_init(N_Star, Loops[k])\n",
    "        e_descrip = np.array([R, v, I])\n",
    "        if R[0] < N_Star.R:\n",
    "            e_loops.append(e_descrip)\n",
    "        k = k + 1\n",
    "    k = 0\n",
    "    p_loops = []\n",
    "    while k < len(Loops):\n",
    "        R, v, I = J_init(N_Star, Loops[k])\n",
    "        #print(R)\n",
    "        #print(v)\n",
    "        p_descrip = np.array([R, v, I])\n",
    "        p_loops.append(p_descrip)\n",
    "        k = k + 1\n",
    "    k = 0\n",
    "    \n",
    "    #E = 0\n",
    "    #while k < len(p_loops):\n",
    "    #    #print(Loops[k][2])\n",
    "    #    Ei = p_loops[k][2]*np.array([0,0,1]) - (1/c)*np.cross(p_loops[k][1], Bgm(N_Star, p_loops[k][0]))\n",
    "    #    E = E + Ei\n",
    "    #    k = k + 1\n",
    "    #k = 0\n",
    "    Bem = 0\n",
    "    #print(p_loops)\n",
    "    while k < len(p_loops):\n",
    "        Bi = B_em(p_loops[k], Point)\n",
    "        k = k + 1\n",
    "        Bem = Bem + Bi\n",
    "    print(\"Bgm = \", Bgm(N_Star, Point))\n",
    "    print(\"Bem = \", Bem)\n",
    "    #print(Bem[0]/Bgm(N_Star, Point)[0])\n",
    "    #print(Bem[1]/Bgm(N_Star, Point)[1])\n",
    "    return (Bem, Bgm(N_Star, Point))"
   ]
  },
  {
   "cell_type": "code",
   "execution_count": 75,
   "metadata": {},
   "outputs": [
    {
     "name": "stdout",
     "output_type": "stream",
     "text": [
      "0.0\n"
     ]
    },
    {
     "name": "stderr",
     "output_type": "stream",
     "text": [
      "C:\\Users\\Grant\\Anaconda3\\lib\\site-packages\\ipykernel_launcher.py:4: RuntimeWarning: divide by zero encountered in double_scalars\n",
      "  after removing the cwd from sys.path.\n"
     ]
    },
    {
     "name": "stdout",
     "output_type": "stream",
     "text": [
      "Bgm =  [-8.31549783e+21 -4.15774891e+21  0.00000000e+00]\n",
      "Bem =  [0. 0. 0.]\n",
      "0.0\n"
     ]
    },
    {
     "name": "stderr",
     "output_type": "stream",
     "text": [
      "C:\\Users\\Grant\\Anaconda3\\lib\\site-packages\\ipykernel_launcher.py:17: RuntimeWarning: divide by zero encountered in log10\n",
      "C:\\Users\\Grant\\Anaconda3\\lib\\site-packages\\ipykernel_launcher.py:18: RuntimeWarning: divide by zero encountered in log10\n",
      "C:\\Users\\Grant\\Anaconda3\\lib\\site-packages\\ipykernel_launcher.py:19: RuntimeWarning: divide by zero encountered in log10\n",
      "C:\\Users\\Grant\\Anaconda3\\lib\\site-packages\\ipykernel_launcher.py:20: RuntimeWarning: divide by zero encountered in log10\n",
      "C:\\Users\\Grant\\Anaconda3\\lib\\site-packages\\ipykernel_launcher.py:21: RuntimeWarning: divide by zero encountered in log10\n",
      "C:\\Users\\Grant\\Anaconda3\\lib\\site-packages\\ipykernel_launcher.py:22: RuntimeWarning: divide by zero encountered in log10\n"
     ]
    },
    {
     "name": "stdout",
     "output_type": "stream",
     "text": [
      "Bgm =  [-8.31549783e+21 -4.15774891e+21  0.00000000e+00]\n",
      "Bem =  [-1.17619646e+19  2.40002088e+21  0.00000000e+00]\n",
      "0.005\n",
      "Bgm =  [-8.31549783e+21 -4.15774891e+21  0.00000000e+00]\n",
      "Bem =  [-2.35239292e+19  4.80004175e+21  0.00000000e+00]\n",
      "0.01\n",
      "Bgm =  [-8.31549783e+21 -4.15774891e+21  0.00000000e+00]\n",
      "Bem =  [-3.52858938e+19  7.20006263e+21  0.00000000e+00]\n",
      "0.015\n",
      "Bgm =  [-8.31549783e+21 -4.15774891e+21  0.00000000e+00]\n",
      "Bem =  [-4.70478584e+19  9.60008351e+21  0.00000000e+00]\n",
      "0.02\n",
      "Bgm =  [-8.31549783e+21 -4.15774891e+21  0.00000000e+00]\n",
      "Bem =  [-5.88098230e+19  1.20001044e+22  0.00000000e+00]\n",
      "0.025\n",
      "Bgm =  [-8.31549783e+21 -4.15774891e+21  0.00000000e+00]\n",
      "Bem =  [-7.05717876e+19  1.44001253e+22  0.00000000e+00]\n",
      "0.03\n",
      "Bgm =  [-8.31549783e+21 -4.15774891e+21  0.00000000e+00]\n",
      "Bem =  [-8.23337522e+19  1.68001461e+22  0.00000000e+00]\n",
      "0.035\n",
      "Bgm =  [-8.31549783e+21 -4.15774891e+21  0.00000000e+00]\n",
      "Bem =  [-9.40957168e+19  1.92001670e+22  0.00000000e+00]\n",
      "0.04\n",
      "Bgm =  [-8.31549783e+21 -4.15774891e+21  0.00000000e+00]\n",
      "Bem =  [-1.05857681e+20  2.16001879e+22  0.00000000e+00]\n",
      "0.045\n",
      "Bgm =  [-8.31549783e+21 -4.15774891e+21  0.00000000e+00]\n",
      "Bem =  [-1.17619646e+20  2.40002088e+22  0.00000000e+00]\n",
      "0.05\n",
      "Bgm =  [-8.31549783e+21 -4.15774891e+21  0.00000000e+00]\n",
      "Bem =  [-1.29381611e+20  2.64002296e+22  0.00000000e+00]\n",
      "0.055\n",
      "Bgm =  [-8.31549783e+21 -4.15774891e+21  0.00000000e+00]\n",
      "Bem =  [-1.41143575e+20  2.88002505e+22  0.00000000e+00]\n",
      "0.06\n",
      "Bgm =  [-8.31549783e+21 -4.15774891e+21  0.00000000e+00]\n",
      "Bem =  [-1.52905540e+20  3.12002714e+22  0.00000000e+00]\n",
      "0.065\n",
      "Bgm =  [-8.31549783e+21 -4.15774891e+21  0.00000000e+00]\n",
      "Bem =  [-1.64667504e+20  3.36002923e+22  0.00000000e+00]\n",
      "0.07\n",
      "Bgm =  [-8.31549783e+21 -4.15774891e+21  0.00000000e+00]\n",
      "Bem =  [-1.76429469e+20  3.60003131e+22  0.00000000e+00]\n",
      "0.075\n",
      "Bgm =  [-8.31549783e+21 -4.15774891e+21  0.00000000e+00]\n",
      "Bem =  [-1.88191434e+20  3.84003340e+22  0.00000000e+00]\n",
      "0.08\n",
      "Bgm =  [-8.31549783e+21 -4.15774891e+21  0.00000000e+00]\n",
      "Bem =  [-1.99953398e+20  4.08003549e+22  0.00000000e+00]\n",
      "0.085\n",
      "Bgm =  [-8.31549783e+21 -4.15774891e+21  0.00000000e+00]\n",
      "Bem =  [-2.11715363e+20  4.32003758e+22  0.00000000e+00]\n",
      "0.09\n",
      "Bgm =  [-8.31549783e+21 -4.15774891e+21  0.00000000e+00]\n",
      "Bem =  [-2.23477327e+20  4.56003967e+22  0.00000000e+00]\n",
      "0.095\n",
      "Bgm =  [-8.31549783e+21 -4.15774891e+21  0.00000000e+00]\n",
      "Bem =  [-2.35239292e+20  4.80004175e+22  0.00000000e+00]\n",
      "0.1\n",
      "Bgm =  [-8.31549783e+21 -4.15774891e+21  0.00000000e+00]\n",
      "Bem =  [-2.47001257e+20  5.04004384e+22  0.00000000e+00]\n",
      "0.105\n"
     ]
    }
   ],
   "source": [
    "P_fracs = np.arange(0, .11, .005)\n",
    "log10Bsemr = P_fracs*0\n",
    "log10Bsemtheta = P_fracs*0\n",
    "log10Bsgmr = P_fracs*0\n",
    "log10Bsgmtheta = P_fracs*0\n",
    "log10Br = P_fracs*0\n",
    "log10Btheta = P_fracs*0\n",
    "print(log10Bsemr[0])\n",
    "i = 0\n",
    "for p in P_fracs:\n",
    "    Starp = Star(1.4*Msun, 400, 20000, p)\n",
    "    Bcoupled = ElectromagneticBE(Starp, 100, 1, np.array([20000, np.pi/2, 0]))\n",
    "    Bemi = Bcoupled[0]\n",
    "    Bgmi = Bcoupled[1]\n",
    "    print(p)\n",
    "    #print(Bemi, Bgmi)\n",
    "    log10Bsemr[i] = np.log10(np.abs(Bemi))[0]\n",
    "    log10Bsgmr[i] = np.log10(np.abs(Bgmi))[0]\n",
    "    log10Bsemtheta[i] = np.log10(np.abs(Bemi))[1]\n",
    "    log10Bsgmtheta[i] = np.log10(np.abs(Bgmi))[1]\n",
    "    log10Br[i] = np.log10(np.abs(Bgmi+Bemi))[0]\n",
    "    log10Btheta[i] = np.log10(np.abs(Bemi+Bgmi))[1]\n",
    "    #print(log10Bsem[i], log10Bsgm[i])\n",
    "    i = i + 1"
   ]
  },
  {
   "cell_type": "code",
   "execution_count": 76,
   "metadata": {},
   "outputs": [
    {
     "data": {
      "image/png": "[encoded data removed]",
      "text/plain": [
       "<Figure size 432x288 with 1 Axes>"
      ]
     },
     "metadata": {},
     "output_type": "display_data"
    }
   ],
   "source": [
    "plt.plot(P_fracs, log10Bsgmr - log10Bsemr)\n",
    "plt.title(\"Ratio of $B_{gm}$ to $B_{em}$\")\n",
    "plt.ylabel(\"log($B_r$)\")\n",
    "plt.xlabel(\"Mass Fraction of Charged Matter\")\n",
    "plt.show()"
   ]
  },
  {
   "cell_type": "code",
   "execution_count": 77,
   "metadata": {},
   "outputs": [
    {
     "data": {
      "image/png": "[encoded data removed]",
      "text/plain": [
       "<Figure size 432x288 with 1 Axes>"
      ]
     },
     "metadata": {},
     "output_type": "display_data"
    }
   ],
   "source": [
    "plt.plot(P_fracs, log10Bsgmtheta - log10Bsemtheta)\n",
    "plt.title(\"Ratio of $B_{gm}$ to $B_{em}$\")\n",
    "plt.ylabel(\"log($B_theta$)\")\n",
    "plt.xlabel(\"Mass Fraction of Charged Matter\")\n",
    "plt.show()"
   ]
  },
  {
   "cell_type": "code",
   "execution_count": 78,
   "metadata": {},
   "outputs": [
    {
     "name": "stdout",
     "output_type": "stream",
     "text": [
      "0.0\n"
     ]
    },
    {
     "name": "stderr",
     "output_type": "stream",
     "text": [
      "C:\\Users\\Grant\\Anaconda3\\lib\\site-packages\\ipykernel_launcher.py:4: RuntimeWarning: divide by zero encountered in double_scalars\n",
      "  after removing the cwd from sys.path.\n"
     ]
    },
    {
     "name": "stdout",
     "output_type": "stream",
     "text": [
      "Bgm =  [-8.31549783e+21 -4.15774891e+21  0.00000000e+00]\n",
      "Bem =  [0. 0. 0.]\n",
      "0.0\n"
     ]
    },
    {
     "name": "stderr",
     "output_type": "stream",
     "text": [
      "C:\\Users\\Grant\\Anaconda3\\lib\\site-packages\\ipykernel_launcher.py:17: RuntimeWarning: divide by zero encountered in log10\n",
      "C:\\Users\\Grant\\Anaconda3\\lib\\site-packages\\ipykernel_launcher.py:18: RuntimeWarning: divide by zero encountered in log10\n",
      "C:\\Users\\Grant\\Anaconda3\\lib\\site-packages\\ipykernel_launcher.py:19: RuntimeWarning: divide by zero encountered in log10\n",
      "C:\\Users\\Grant\\Anaconda3\\lib\\site-packages\\ipykernel_launcher.py:20: RuntimeWarning: divide by zero encountered in log10\n",
      "C:\\Users\\Grant\\Anaconda3\\lib\\site-packages\\ipykernel_launcher.py:21: RuntimeWarning: divide by zero encountered in log10\n",
      "C:\\Users\\Grant\\Anaconda3\\lib\\site-packages\\ipykernel_launcher.py:22: RuntimeWarning: divide by zero encountered in log10\n"
     ]
    },
    {
     "name": "stdout",
     "output_type": "stream",
     "text": [
      "Bgm =  [-8.31549783e+21 -4.15774891e+21  0.00000000e+00]\n",
      "Bem =  [-1.17619646e+18  2.40002088e+20  0.00000000e+00]\n",
      "0.0005\n",
      "Bgm =  [-8.31549783e+21 -4.15774891e+21  0.00000000e+00]\n",
      "Bem =  [-2.35239292e+18  4.80004175e+20  0.00000000e+00]\n",
      "0.001\n",
      "Bgm =  [-8.31549783e+21 -4.15774891e+21  0.00000000e+00]\n",
      "Bem =  [-3.52858938e+18  7.20006263e+20  0.00000000e+00]\n",
      "0.0015\n",
      "Bgm =  [-8.31549783e+21 -4.15774891e+21  0.00000000e+00]\n",
      "Bem =  [-4.70478584e+18  9.60008351e+20  0.00000000e+00]\n",
      "0.002\n",
      "Bgm =  [-8.31549783e+21 -4.15774891e+21  0.00000000e+00]\n",
      "Bem =  [-5.88098230e+18  1.20001044e+21  0.00000000e+00]\n",
      "0.0025\n",
      "Bgm =  [-8.31549783e+21 -4.15774891e+21  0.00000000e+00]\n",
      "Bem =  [-7.05717876e+18  1.44001253e+21  0.00000000e+00]\n",
      "0.003\n",
      "Bgm =  [-8.31549783e+21 -4.15774891e+21  0.00000000e+00]\n",
      "Bem =  [-8.23337522e+18  1.68001461e+21  0.00000000e+00]\n",
      "0.0035\n",
      "Bgm =  [-8.31549783e+21 -4.15774891e+21  0.00000000e+00]\n",
      "Bem =  [-9.40957168e+18  1.92001670e+21  0.00000000e+00]\n",
      "0.004\n",
      "Bgm =  [-8.31549783e+21 -4.15774891e+21  0.00000000e+00]\n",
      "Bem =  [-1.05857681e+19  2.16001879e+21  0.00000000e+00]\n",
      "0.0045000000000000005\n",
      "Bgm =  [-8.31549783e+21 -4.15774891e+21  0.00000000e+00]\n",
      "Bem =  [-1.17619646e+19  2.40002088e+21  0.00000000e+00]\n",
      "0.005\n",
      "Bgm =  [-8.31549783e+21 -4.15774891e+21  0.00000000e+00]\n",
      "Bem =  [-1.29381611e+19  2.64002296e+21  0.00000000e+00]\n",
      "0.0055\n",
      "Bgm =  [-8.31549783e+21 -4.15774891e+21  0.00000000e+00]\n",
      "Bem =  [-1.41143575e+19  2.88002505e+21  0.00000000e+00]\n",
      "0.006\n",
      "Bgm =  [-8.31549783e+21 -4.15774891e+21  0.00000000e+00]\n",
      "Bem =  [-1.52905540e+19  3.12002714e+21  0.00000000e+00]\n",
      "0.006500000000000001\n",
      "Bgm =  [-8.31549783e+21 -4.15774891e+21  0.00000000e+00]\n",
      "Bem =  [-1.64667504e+19  3.36002923e+21  0.00000000e+00]\n",
      "0.007\n",
      "Bgm =  [-8.31549783e+21 -4.15774891e+21  0.00000000e+00]\n",
      "Bem =  [-1.76429469e+19  3.60003131e+21  0.00000000e+00]\n",
      "0.0075\n",
      "Bgm =  [-8.31549783e+21 -4.15774891e+21  0.00000000e+00]\n",
      "Bem =  [-1.88191434e+19  3.84003340e+21  0.00000000e+00]\n",
      "0.008\n",
      "Bgm =  [-8.31549783e+21 -4.15774891e+21  0.00000000e+00]\n",
      "Bem =  [-1.99953398e+19  4.08003549e+21  0.00000000e+00]\n",
      "0.0085\n",
      "Bgm =  [-8.31549783e+21 -4.15774891e+21  0.00000000e+00]\n",
      "Bem =  [-2.11715363e+19  4.32003758e+21  0.00000000e+00]\n",
      "0.009000000000000001\n",
      "Bgm =  [-8.31549783e+21 -4.15774891e+21  0.00000000e+00]\n",
      "Bem =  [-2.23477327e+19  4.56003967e+21  0.00000000e+00]\n",
      "0.0095\n"
     ]
    }
   ],
   "source": [
    "P_fracs = np.arange(0, .01, .0005)\n",
    "log10Bsemr = P_fracs*0\n",
    "log10Bsemtheta = P_fracs*0\n",
    "log10Bsgmr = P_fracs*0\n",
    "log10Bsgmtheta = P_fracs*0\n",
    "log10Br = P_fracs*0\n",
    "log10Btheta = P_fracs*0\n",
    "print(log10Bsemr[0])\n",
    "i = 0\n",
    "for p in P_fracs:\n",
    "    Starp = Star(1.4*Msun, 400, 20000, p)\n",
    "    Bcoupled = ElectromagneticBE(Starp, 100, 1, np.array([20000, np.pi/2, 0]))\n",
    "    Bemi = Bcoupled[0]\n",
    "    Bgmi = Bcoupled[1]\n",
    "    print(p)\n",
    "    #print(Bemi, Bgmi)\n",
    "    log10Bsemr[i] = np.log10(np.abs(Bemi))[0]\n",
    "    log10Bsgmr[i] = np.log10(np.abs(Bgmi))[0]\n",
    "    log10Bsemtheta[i] = np.log10(np.abs(Bemi))[1]\n",
    "    log10Bsgmtheta[i] = np.log10(np.abs(Bgmi))[1]\n",
    "    log10Br[i] = np.log10(np.abs(Bgmi+Bemi))[0]\n",
    "    log10Btheta[i] = np.log10(np.abs(Bemi+Bgmi))[1]\n",
    "    #print(log10Bsem[i], log10Bsgm[i])\n",
    "    i = i + 1"
   ]
  },
  {
   "cell_type": "code",
   "execution_count": 79,
   "metadata": {},
   "outputs": [
    {
     "data": {
      "image/png": "[encoded data removed]",
      "text/plain": [
       "<Figure size 432x288 with 1 Axes>"
      ]
     },
     "metadata": {},
     "output_type": "display_data"
    }
   ],
   "source": [
    "plt.plot(P_fracs, log10Bsgmr - log10Bsemr)\n",
    "plt.title(\"Ratio of $B_{gm}$ to $B_{em}$\")\n",
    "plt.ylabel(\"log($B_r$)\")\n",
    "plt.xlabel(\"Mass Fraction of Charged Matter\")\n",
    "plt.show()"
   ]
  },
  {
   "cell_type": "code",
   "execution_count": 80,
   "metadata": {},
   "outputs": [
    {
     "data": {
      "image/png": "[encoded data removed]",
      "text/plain": [
       "<Figure size 432x288 with 1 Axes>"
      ]
     },
     "metadata": {},
     "output_type": "display_data"
    }
   ],
   "source": [
    "plt.plot(P_fracs, log10Bsgmtheta - log10Bsemtheta)\n",
    "plt.title(\"Ratio of $B_{gm}$ to $B_{em}$\")\n",
    "plt.ylabel(\"log($B_{theta}$)\")\n",
    "plt.xlabel(\"Mass Fraction of Charged Matter\")\n",
    "plt.show()"
   ]
  }
 ],
 "metadata": {
  "kernelspec": {
   "display_name": "Python 3",
   "language": "python",
   "name": "python3"
  },
  "language_info": {
   "codemirror_mode": {
    "name": "ipython",
    "version": 3
   },
   "file_extension": ".py",
   "mimetype": "text/x-python",
   "name": "python",
   "nbconvert_exporter": "python",
   "pygments_lexer": "ipython3",
   "version": "3.6.1"
  }
 },
 "nbformat": 4,
 "nbformat_minor": 2
}
